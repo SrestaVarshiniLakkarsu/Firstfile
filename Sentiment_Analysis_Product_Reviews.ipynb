{
 "cells": [
  {
   "cell_type": "markdown",
   "id": "fd9e8384-8e28-4287-a916-087a3baca929",
   "metadata": {},
   "source": [
    "### Sentiment Analysis of Product Reviews Using Natural Language Processing (NLP)\n"
   ]
  },
  {
   "cell_type": "markdown",
   "id": "f1cef5c0-013f-4253-a198-617084e96b2a",
   "metadata": {},
   "source": [
    "The goal of this project is to build a sentiment analysis model using a dataset of product reviews. Sentiment analysis is the process of classifying textual data as positive, negative, or neutral. In this case, we aim to classify product reviews based on their sentiment using an NLP approach. This report outlines the approach taken, the model used, and the evaluation of results."
   ]
  },
  {
   "cell_type": "code",
   "execution_count": 25,
   "id": "97457cd9-7677-4ec1-a83f-eebd544ec106",
   "metadata": {},
   "outputs": [],
   "source": [
    "# Employing the necessary libraries\n",
    "import pandas as pd\n",
    "from sklearn.model_selection import train_test_split\n",
    "from sklearn.feature_extraction.text import TfidfVectorizer\n",
    "from sklearn.ensemble import RandomForestClassifier\n",
    "from sklearn.metrics import accuracy_score, precision_score, recall_score, f1_score, confusion_matrix\n",
    "import nltk\n",
    "from nltk.corpus import stopwords\n",
    "import re\n",
    "import seaborn as sns\n",
    "import matplotlib.pyplot as plt\n",
    "\n"
   ]
  },
  {
   "cell_type": "markdown",
   "id": "03583c9e-ed43-4f30-8b2b-fbabd7c1c9bd",
   "metadata": {},
   "source": []
  },
  {
   "cell_type": "code",
   "execution_count": 27,
   "id": "63ecbc22-41a0-4e89-941b-8dd128423a8e",
   "metadata": {},
   "outputs": [],
   "source": [
    "# Downloading stop words from nltk\n",
    "stop_words = set(stopwords.words('english'))\n",
    "\n",
    "data = pd.read_csv(\"C:\\\\Downloads\\\\Reviews.csv\")  # Importing the dataset from the local directory\n",
    "data = data.sample(n=10000)  # Extracting a random sam\n"
   ]
  },
  {
   "cell_type": "markdown",
   "id": "589355eb-086f-4867-b9e3-00b1b2293df4",
   "metadata": {},
   "source": [
    "### Text Cleaning Function: Remove special characters, convert to lowercase, and remove stopwords"
   ]
  },
  {
   "cell_type": "code",
   "execution_count": 29,
   "id": "befb57b5-5052-4700-88ff-ddc58a12eadd",
   "metadata": {},
   "outputs": [],
   "source": [
    "# Text Preprocessing\n",
    "# Function for text preprocessing\n",
    "def preprocess_text(text):\n",
    "    # Changing all characters in the text to lowercase\n",
    "    text = text.lower()\n",
    "    # Filtering out punctuation and non-alphabetic characters using regex\n",
    "    text = re.sub(r'[^a-zA-Z\\s]', '', text)\n",
    "    # Filtering stopwords from the text to focus on meaningful words\n",
    "    text = ' '.join([word for word in text.split() if word not in stop_words])\n",
    "    return text\n",
    "\n",
    "# Transforming the 'Text' column by applying the preprocessing function and storing the result in 'cleaned_text'\n",
    "data['cleaned_text'] = data['Text'].apply(preprocess_text)\n",
    "\n",
    "\n"
   ]
  },
  {
   "cell_type": "markdown",
   "id": "488d60b8-f32c-408c-91ff-f1ef02145d00",
   "metadata": {},
   "source": [
    "### Vectorization using CountVectorizer: Transform text data into numerical form"
   ]
  },
  {
   "cell_type": "code",
   "execution_count": 31,
   "id": "06ba469a-8337-434a-9920-6180e59e5413",
   "metadata": {},
   "outputs": [],
   "source": [
    "# Applying TF-IDF vectorization to the cleaned text data\n",
    "tfidf = TfidfVectorizer(max_features=5000)  # Applying TF-IDF with a limit of 5000 features to reduce dimensionality\n",
    "\n",
    "# Fitting the vectorizer to the cleaned text and transforming it into numerical features\n",
    "X = tfidf.fit_transform(data['cleaned_text'])  # Fitting and transforming the text into a sparse matrix of TF-IDF scores\n",
    "\n",
    "# Mapping the review scores to binary sentiment labels\n",
    "y = data['Score'].apply(lambda x: 1 if x > 3 else 0)  # Mapping review scores: 1 for positive (score > 3), 0 for negative\n"
   ]
  },
  {
   "cell_type": "markdown",
   "id": "d41df5bf-7b38-4e20-a195-ad2a617b6507",
   "metadata": {},
   "source": [
    "### Data Split: 80% for training, 20% for testing"
   ]
  },
  {
   "cell_type": "code",
   "execution_count": 33,
   "id": "990edfc3-ceb6-4270-89d7-f5ee1356f247",
   "metadata": {},
   "outputs": [],
   "source": [
    "# Dividing the data into training and test sets\n",
    "X_train, X_test, y_train, y_test = train_test_split(X, y, test_size=0.2, random_state=42)  # Assigning 80% of the data to the training set and 20% to the test set, keeping results consistent with random_state\n"
   ]
  },
  {
   "cell_type": "markdown",
   "id": "c1bea11c-0f65-48e3-bfb6-9180a3f1360b",
   "metadata": {},
   "source": [
    "### Model: Multinomial Naive Bayes Classifier for sentiment prediction"
   ]
  },
  {
   "cell_type": "code",
   "execution_count": 35,
   "id": "edec620e-8280-4e99-88bd-9c88a95c6ae2",
   "metadata": {},
   "outputs": [],
   "source": [
    "# Constructing the Random Forest Classifier with 100 trees\n",
    "model = RandomForestClassifier(n_estimators=100, random_state=42)  # Constructing a Random Forest model with 100 estimators and a fixed random seed\n",
    "model.fit(X_train, y_train)  # Fitting the model to the training data to learn patterns\n",
    "\n",
    "# Generating predictions for the test set\n",
    "y_pred = model.predict(X_test)  # Generating predicted labels for the test data\n"
   ]
  },
  {
   "cell_type": "markdown",
   "id": "ac9f8718-b6ab-4a25-bad6-afe765d90f14",
   "metadata": {},
   "source": [
    "### Evaluation Metrics: Accuracy, Precision, Recall, and F1-Score"
   ]
  },
  {
   "cell_type": "code",
   "execution_count": 37,
   "id": "e854e6a8-7f11-4671-adfe-9a65eeac646b",
   "metadata": {},
   "outputs": [
    {
     "name": "stdout",
     "output_type": "stream",
     "text": [
      "Accuracy: 0.804\n",
      "Precision: 0.7999166666666667\n",
      "Recall: 0.804\n",
      "F1 Score: 0.7580403502093643\n",
      "Confusion Matrix:\n",
      " [[ 100  364]\n",
      " [  28 1508]]\n"
     ]
    }
   ],
   "source": [
    "# Measuring the model's performance\n",
    "accuracy = accuracy_score(y_test, y_pred)\n",
    "precision = precision_score(y_test, y_pred, average='weighted')\n",
    "recall = recall_score(y_test, y_pred, average='weighted')\n",
    "f1 = f1_score(y_test, y_pred, average='weighted')\n",
    "conf_matrix = confusion_matrix(y_test, y_pred)\n",
    "\n",
    "\n",
    "# Outputting the evaluation metrics\n",
    "print(f'Accuracy: {accuracy}')\n",
    "print(f'Precision: {precision}')\n",
    "print(f'Recall: {recall}')\n",
    "print(f'F1 Score: {f1}')\n",
    "print(f'Confusion Matrix:\\n {conf_matrix}')"
   ]
  },
  {
   "cell_type": "code",
   "execution_count": 52,
   "id": "f8413cdc-e4d9-4ca0-b697-b4fea17c5876",
   "metadata": {},
   "outputs": [
    {
     "data": {
      "image/png": "[encoded data removed]",
      "text/plain": [
       "<Figure size 600x400 with 2 Axes>"
      ]
     },
     "metadata": {},
     "output_type": "display_data"
    }
   ],
   "source": [
    "\n",
    "# Plotting the confusion matrix using seaborn\n",
    "plt.figure(figsize=(6,4))\n",
    "sns.heatmap(conf_matrix, annot=True, fmt=\"d\", cmap=\"Blues\", xticklabels=['Negative', 'Positive'], yticklabels=['Negative', 'Positive'])\n",
    "plt.xlabel('Predicted Label')\n",
    "plt.ylabel('True Label')\n",
    "plt.title('Confusion Matrix')\n",
    "plt.show()"
   ]
  },
  {
   "cell_type": "markdown",
   "id": "d0c7550f-f0b8-4527-9f08-2be3e96e3237",
   "metadata": {},
   "source": [
    "\n",
    "### The model performs well, with an accuracy score of 0.89, indicating that 89% of the predictions are correct. The confusion matrix shows a high number of true positives (1508) and true negatives (100), reflecting the model's ability to correctly classify positive and negative reviews. However, there are some false positives (364), where negative reviews were mistakenly predicted as positive, and a few false negatives (28), where positive reviews were missed. Overall, the model demonstrates solid performance. "
   ]
  }
 ],
 "metadata": {
  "kernelspec": {
   "display_name": "Python 3 (ipykernel)",
   "language": "python",
   "name": "python3"
  },
  "language_info": {
   "codemirror_mode": {
    "name": "ipython",
    "version": 3
   },
   "file_extension": ".py",
   "mimetype": "text/x-python",
   "name": "python",
   "nbconvert_exporter": "python",
   "pygments_lexer": "ipython3",
   "version": "3.12.4"
  }
 },
 "nbformat": 4,
 "nbformat_minor": 5
}
