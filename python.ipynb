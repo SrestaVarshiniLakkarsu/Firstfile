{
  "nbformat": 4,
  "nbformat_minor": 0,
  "metadata": {
    "colab": {
      "provenance": []
    },
    "kernelspec": {
      "name": "python3",
      "display_name": "Python 3"
    },
    "language_info": {
      "name": "python"
    }
  },
  "cells": [
    {
      "cell_type": "code",
      "execution_count": 20,
      "metadata": {
        "id": "P_P9cRSK3ILh"
      },
      "outputs": [],
      "source": [
        "## open func - used to open a file, it returns a file object\n",
        "## \"w\" mode specifies the write mode  and creates if the specified file dont exists\n",
        "\n",
        "file1=open(\"files1.txt\",\"w\")\n"
      ]
    },
    {
      "cell_type": "code",
      "source": [
        "## file object gives many details like\n",
        "## 1. name of the file\n",
        "print(file1.name)"
      ],
      "metadata": {
        "colab": {
          "base_uri": "https://localhost:8080/"
        },
        "id": "M6DREgWO4EQq",
        "outputId": "109f1a4f-c5c8-4918-87f7-0c4cc9fc3737"
      },
      "execution_count": 21,
      "outputs": [
        {
          "output_type": "stream",
          "name": "stdout",
          "text": [
            "files1.txt\n"
          ]
        }
      ]
    },
    {
      "cell_type": "code",
      "source": [
        "file1.mode\n",
        "## 2. mode of the file\n"
      ],
      "metadata": {
        "colab": {
          "base_uri": "https://localhost:8080/",
          "height": 36
        },
        "id": "JnmDPlhZ3PhW",
        "outputId": "39788b2a-e219-4de4-c38c-b7ebb77241a7"
      },
      "execution_count": 22,
      "outputs": [
        {
          "output_type": "execute_result",
          "data": {
            "text/plain": [
              "'w'"
            ],
            "application/vnd.google.colaboratory.intrinsic+json": {
              "type": "string"
            }
          },
          "metadata": {},
          "execution_count": 22
        }
      ]
    },
    {
      "cell_type": "code",
      "source": [
        "## 3. returns a boolean value which indicates that file is readable or not\n",
        "file1.readable()"
      ],
      "metadata": {
        "colab": {
          "base_uri": "https://localhost:8080/"
        },
        "id": "AYY_A6Lm30pR",
        "outputId": "37773454-96f5-47ee-aeb2-415f3158c7cd"
      },
      "execution_count": 23,
      "outputs": [
        {
          "output_type": "execute_result",
          "data": {
            "text/plain": [
              "False"
            ]
          },
          "metadata": {},
          "execution_count": 23
        }
      ]
    },
    {
      "cell_type": "code",
      "source": [
        "## 4. returns a boolean value which indicates that file is writable or not\n",
        "file1.writable()"
      ],
      "metadata": {
        "colab": {
          "base_uri": "https://localhost:8080/"
        },
        "id": "QQjW_-5s4NbX",
        "outputId": "81e42728-f702-442f-8a56-481c7008f76b"
      },
      "execution_count": 24,
      "outputs": [
        {
          "output_type": "execute_result",
          "data": {
            "text/plain": [
              "True"
            ]
          },
          "metadata": {},
          "execution_count": 24
        }
      ]
    },
    {
      "cell_type": "code",
      "source": [
        "\n",
        "## 5. returns a boolean value which indicates that file is closed or not\n",
        "##file1.closed()"
      ],
      "metadata": {
        "id": "XaeTBXT_4Uax"
      },
      "execution_count": 25,
      "outputs": []
    },
    {
      "cell_type": "code",
      "source": [
        "## file() - func used to close the file after performing ceratin file operations\n",
        "file1.close()"
      ],
      "metadata": {
        "id": "T46rHuQl4lFv"
      },
      "execution_count": 26,
      "outputs": []
    },
    {
      "cell_type": "code",
      "source": [
        "file1.closed"
      ],
      "metadata": {
        "colab": {
          "base_uri": "https://localhost:8080/"
        },
        "id": "U8Idsrjc4sym",
        "outputId": "790a4aa2-507d-452f-8717-e986386bf2c7"
      },
      "execution_count": 27,
      "outputs": [
        {
          "output_type": "execute_result",
          "data": {
            "text/plain": [
              "True"
            ]
          },
          "metadata": {},
          "execution_count": 27
        }
      ]
    },
    {
      "cell_type": "code",
      "source": [
        "## f2 is created to work on reading data from the file\n",
        "## mode1 - w:  write dta into the file(override the data)\n",
        "f2=open(\"abcd.txt\",'w+')\n",
        "f2.write(\"Durga\\n\")\n",
        "f2.write(\"Software\\n\")\n",
        "f2.write(\"Solutions\\n\")\n",
        "print(\"Data written to the file successfully\")\n",
        "f2.close()"
      ],
      "metadata": {
        "colab": {
          "base_uri": "https://localhost:8080/"
        },
        "id": "XmndBMQb6GAC",
        "outputId": "eb2c05a6-e3ee-42d1-9338-ac2f532accf2"
      },
      "execution_count": 28,
      "outputs": [
        {
          "output_type": "stream",
          "name": "stdout",
          "text": [
            "Data written to the file successfully\n"
          ]
        }
      ]
    },
    {
      "cell_type": "code",
      "source": [
        "\n",
        "## mode2 - a:  write dta into the file(append the data  at the end of teh file)\n",
        "f2=open(\"abcd.txt\",'a')\n",
        "f2.write(\"quality\\n\")\n",
        "f2.write(\"thought\\n\")\n",
        "f2.write(\"institute\\n\")\n",
        "print(\"Data written to the file successfully\")\n",
        "f2.close()"
      ],
      "metadata": {
        "colab": {
          "base_uri": "https://localhost:8080/"
        },
        "id": "Z7A9czM-8uxF",
        "outputId": "2ea8608d-d980-4eed-e599-3b0862889b0c"
      },
      "execution_count": 29,
      "outputs": [
        {
          "output_type": "stream",
          "name": "stdout",
          "text": [
            "Data written to the file successfully\n"
          ]
        }
      ]
    },
    {
      "cell_type": "code",
      "source": [
        "## read() : read total data from the file\n",
        "\n",
        "## mode3 - r:  read data from the file\n",
        "f2=open(\"abcd.txt\",\"r\")\n",
        "f2.read()\n"
      ],
      "metadata": {
        "colab": {
          "base_uri": "https://localhost:8080/",
          "height": 36
        },
        "id": "bA8blZzY5PgE",
        "outputId": "2d0bcd5c-2218-4915-8201-4f5483c74e0f"
      },
      "execution_count": 30,
      "outputs": [
        {
          "output_type": "execute_result",
          "data": {
            "text/plain": [
              "'Durga\\nSoftware\\nSolutions\\nquality\\nthought\\ninstitute\\n'"
            ],
            "application/vnd.google.colaboratory.intrinsic+json": {
              "type": "string"
            }
          },
          "metadata": {},
          "execution_count": 30
        }
      ]
    },
    {
      "cell_type": "code",
      "source": [
        "## seek - change the current file position\n",
        "f2.seek(0)"
      ],
      "metadata": {
        "colab": {
          "base_uri": "https://localhost:8080/"
        },
        "id": "sTvV4QL26iSn",
        "outputId": "736d8749-1333-478d-a153-eae2eac8ef46"
      },
      "execution_count": 31,
      "outputs": [
        {
          "output_type": "execute_result",
          "data": {
            "text/plain": [
              "0"
            ]
          },
          "metadata": {},
          "execution_count": 31
        }
      ]
    },
    {
      "cell_type": "code",
      "source": [
        "## read(n) : read total n characters from the file\n",
        "f2=open(\"abcd.txt\",\"r\")\n",
        "f2.read(6)\n"
      ],
      "metadata": {
        "colab": {
          "base_uri": "https://localhost:8080/",
          "height": 36
        },
        "id": "FR3rKLLe6RTM",
        "outputId": "81b3c398-a07c-4d3f-a605-4515306f5e49"
      },
      "execution_count": 32,
      "outputs": [
        {
          "output_type": "execute_result",
          "data": {
            "text/plain": [
              "'Durga\\n'"
            ],
            "application/vnd.google.colaboratory.intrinsic+json": {
              "type": "string"
            }
          },
          "metadata": {},
          "execution_count": 32
        }
      ]
    },
    {
      "cell_type": "code",
      "source": [
        "## seek - change the current file position\n",
        "f2.seek(0)"
      ],
      "metadata": {
        "colab": {
          "base_uri": "https://localhost:8080/"
        },
        "id": "TOvRGbm47veh",
        "outputId": "4515cf6e-c1bb-4a05-e15e-08a367061bd1"
      },
      "execution_count": 33,
      "outputs": [
        {
          "output_type": "execute_result",
          "data": {
            "text/plain": [
              "0"
            ]
          },
          "metadata": {},
          "execution_count": 33
        }
      ]
    },
    {
      "cell_type": "code",
      "source": [
        "## readline() : read total n characters from the file\n",
        "f2=open(\"abcd.txt\",\"r\")\n",
        "f2.readline()"
      ],
      "metadata": {
        "colab": {
          "base_uri": "https://localhost:8080/",
          "height": 36
        },
        "id": "wbTqoeeQ7qAr",
        "outputId": "c1eb951d-ecbd-4bc9-a67b-986fcf050b6e"
      },
      "execution_count": 34,
      "outputs": [
        {
          "output_type": "execute_result",
          "data": {
            "text/plain": [
              "'Durga\\n'"
            ],
            "application/vnd.google.colaboratory.intrinsic+json": {
              "type": "string"
            }
          },
          "metadata": {},
          "execution_count": 34
        }
      ]
    },
    {
      "cell_type": "code",
      "source": [
        "f2.readline()"
      ],
      "metadata": {
        "colab": {
          "base_uri": "https://localhost:8080/",
          "height": 36
        },
        "id": "1p-uw-SXB1fE",
        "outputId": "869612cd-c119-49db-ca52-2937ce7ff736"
      },
      "execution_count": 35,
      "outputs": [
        {
          "output_type": "execute_result",
          "data": {
            "text/plain": [
              "'Software\\n'"
            ],
            "application/vnd.google.colaboratory.intrinsic+json": {
              "type": "string"
            }
          },
          "metadata": {},
          "execution_count": 35
        }
      ]
    },
    {
      "cell_type": "code",
      "source": [
        "## seek -move the cursor to the specified file position\n",
        "## seek(offset,from where) ---> default value for 2nd attribute(from where) is 0. And python 3 supports only 0.\n",
        "f2.seek(0)"
      ],
      "metadata": {
        "colab": {
          "base_uri": "https://localhost:8080/"
        },
        "id": "VLkFfZ758Cgd",
        "outputId": "4b801b0c-ad8b-4d12-93aa-c3c8d6697751"
      },
      "execution_count": 36,
      "outputs": [
        {
          "output_type": "execute_result",
          "data": {
            "text/plain": [
              "0"
            ]
          },
          "metadata": {},
          "execution_count": 36
        }
      ]
    },
    {
      "cell_type": "code",
      "source": [
        "## readlines() : read total n characters from the file\n",
        "f2=open(\"abcd.txt\",\"r\")\n",
        "f2.readlines()"
      ],
      "metadata": {
        "colab": {
          "base_uri": "https://localhost:8080/"
        },
        "id": "-vFYrPL372kE",
        "outputId": "ca1228b5-567a-4cbb-8cd7-06761b0b3d23"
      },
      "execution_count": 37,
      "outputs": [
        {
          "output_type": "execute_result",
          "data": {
            "text/plain": [
              "['Durga\\n',\n",
              " 'Software\\n',\n",
              " 'Solutions\\n',\n",
              " 'quality\\n',\n",
              " 'thought\\n',\n",
              " 'institute\\n']"
            ]
          },
          "metadata": {},
          "execution_count": 37
        }
      ]
    },
    {
      "cell_type": "code",
      "source": [
        "## f3 is created to work on writting data from the file\n",
        "\n",
        "## with statement - is used with open function to create a file object, used to group the file operation statemnets\n",
        "## is used to automatically open the file after opeartions\n",
        "with open(\"abcd.txt\",\"w\") as f3:\n",
        "  f3.write(\"sresta\")\n",
        "  f3.write(\"varshini\")\n",
        "  f3.write(\"lakkarsu\")\n",
        "  f3.closed ## file is still opened within the \"with\"  statement\n",
        "f3.closed  ## file is still automatically closed after the \"with\"  statement\n"
      ],
      "metadata": {
        "id": "7uHvMof88BJ-",
        "colab": {
          "base_uri": "https://localhost:8080/"
        },
        "outputId": "2ddf43ac-f02a-4103-a99f-f87f832c3f77"
      },
      "execution_count": 38,
      "outputs": [
        {
          "output_type": "execute_result",
          "data": {
            "text/plain": [
              "True"
            ]
          },
          "metadata": {},
          "execution_count": 38
        }
      ]
    },
    {
      "cell_type": "code",
      "source": [
        "## seek -move the cursor to the specified file position\n",
        "## seek(offset,from where) ---> default value for 2nd attribute(from where) is 0. And python 3 supports only 0.\n",
        "data=\"All students are stupids\"\n",
        "f4=open(\"student.txt\",\"w\")\n",
        "f4.write(data)\n",
        "with open(\"student.txt\",\"r+\") as f4:\n",
        "  text=f4.read()\n",
        "  print(text)\n",
        "  print(f4.tell())\n",
        "  print(f4.seek(17))\n",
        "  f4.write(\"gems!!!\")\n",
        "  f4.seek(0)\n",
        "  print(f4.read())\n"
      ],
      "metadata": {
        "colab": {
          "base_uri": "https://localhost:8080/"
        },
        "id": "PgbsTtEFcX-r",
        "outputId": "e8dbfddf-4915-4fb4-f2ce-656e2e8d167c"
      },
      "execution_count": 39,
      "outputs": [
        {
          "output_type": "stream",
          "name": "stdout",
          "text": [
            "All students are stupids\n",
            "24\n",
            "17\n",
            "All students are gems!!!\n"
          ]
        }
      ]
    },
    {
      "cell_type": "code",
      "source": [
        "## check whether the given file exists or not\n",
        "## os module contails path sub module which provides isfile() to whether a particular file contains or not\n",
        "from os import path\n",
        "import sys\n",
        "fname=input(\"enter file name:\")\n",
        "if path.isfile(fname):\n",
        "  print(fname,\" file exists.\")\n",
        "  file=open(fname,\"r\")\n",
        "\n",
        "else:\n",
        "   print(fname,\" file does not exists.\")\n",
        "   sys.exit(0)\n",
        "print(\"The content of the file is:\")\n",
        "\n",
        "print(file.read())\n"
      ],
      "metadata": {
        "id": "SKccUa1klg0f"
      },
      "execution_count": null,
      "outputs": []
    },
    {
      "cell_type": "code",
      "source": [],
      "metadata": {
        "id": "xas1UjKJ0_5x"
      },
      "execution_count": null,
      "outputs": []
    },
    {
      "cell_type": "markdown",
      "source": [
        "## Write data to text files\n",
        "f2=open(\"abcd.txt\",'w')\n",
        "f2.write(\"Durga\",\"\\n\")\n",
        "f2.write(\"Software\",\"\\n\")\n",
        "f2.write(\"Solutions\",\"\\n\")\n",
        "print(\"Data written to the file successfully\")\n",
        "f2.close()"
      ],
      "metadata": {
        "id": "MZW81Bmm42s7"
      }
    }
  ]
}